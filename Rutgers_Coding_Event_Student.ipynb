{
  "cells": [
    {
      "cell_type": "markdown",
      "metadata": {
        "id": "NVBvlpD8L-tB"
      },
      "source": [
        "# **J&J Coding Event at Rutgers**\n",
        "\n",
        "Exploratory Data Analysis of Titanic Dataset with Pandas, Seaborn, and Matplotlib\n",
        "\n",
        "DATASET: https://www.kaggle.com/competitions/titanic/data\n",
        "\n"
      ]
    },
    {
      "cell_type": "markdown",
      "metadata": {
        "id": "uI3OltfvItGW"
      },
      "source": [
        "# **How to do the data analysis?**\n",
        "\n",
        "**1. What is the problem we are trying to solve?**\n",
        "\n",
        "**2. Is there any trend or any interesting observation in the data?**\n"
      ]
    },
    {
      "cell_type": "markdown",
      "metadata": {
        "id": "F7EgixXAsEOI"
      },
      "source": [
        "Let's start with some basic questions:\n",
        "\n",
        "1.) Who were the passengers on the Titanic? (Ages, Gender, Class,..etc)\n",
        "\n",
        "2.) Who was alone and who was with family?\n",
        "\n",
        "3.) What deck were the passengers on and how does that relate to their class ?\n",
        "\n",
        "4.) Does the ticket price relate to their survival?\n",
        "\n",
        "5.) What factors helped someone survive the sinking?\n",
        "\n"
      ]
    },
    {
      "cell_type": "markdown",
      "metadata": {
        "id": "yZOcgRlXwrxG"
      },
      "source": [
        "After listing out the problems, we can now start to observe/understand our data.\n"
      ]
    },
    {
      "cell_type": "markdown",
      "source": [
        "# **Upload Files/Data**"
      ],
      "metadata": {
        "id": "PVSopq_YEQGX"
      }
    },
    {
      "cell_type": "code",
      "execution_count": null,
      "metadata": {
        "id": "wjvvbtHLL0qK"
      },
      "outputs": [],
      "source": [
        "# First, we need to import the data to the algorithm.\n",
        "\n",
        "_____________________________"
      ]
    },
    {
      "cell_type": "markdown",
      "source": [
        "# **Import Packages**"
      ],
      "metadata": {
        "id": "wGMqV1gzEepg"
      }
    },
    {
      "cell_type": "markdown",
      "metadata": {
        "id": "l-OsXiS2RQLJ"
      },
      "source": [
        "Packages we are using today:\n",
        "\n",
        "1. Panda: https://pandas.pydata.org/docs/reference/index.html\n",
        "2. Numpy: https://numpy.org/\n",
        "3. Matplotlib: https://matplotlib.org/stable/api/_as_gen/matplotlib.pyplot.ylim.html\n",
        "4. Seaborn: https://seaborn.pydata.org/api.html\n"
      ]
    },
    {
      "cell_type": "code",
      "execution_count": null,
      "metadata": {
        "id": "fn09N0On1YLm"
      },
      "outputs": [],
      "source": [
        "# import packages\n",
        "import pandas as pd\n",
        "import numpy as np\n",
        "import matplotlib.pyplot as plt\n",
        "import seaborn as sns"
      ]
    },
    {
      "cell_type": "markdown",
      "source": [
        "# **Observe Data**"
      ],
      "metadata": {
        "id": "ulr8CW46E2cm"
      }
    },
    {
      "cell_type": "code",
      "execution_count": null,
      "metadata": {
        "id": "B5OJ5ErhIzm1"
      },
      "outputs": [],
      "source": [
        "# Print out and observe the data ----> What kind of data do we have?\n",
        "\n",
        "# setting plotting style we want\n",
        "%matplotlib inline\n",
        "sns.set(style=\"ticks\")\n",
        "\n",
        "# passing csv data to local variables\n",
        "_________________________"
      ]
    },
    {
      "cell_type": "markdown",
      "metadata": {
        "id": "iD1sEgaQK6FV"
      },
      "source": [
        "**Variable Notes**\n",
        "\n",
        "PassengerId Unique ID of the passenger\n",
        "\n",
        "Survived Survived (1) or died (0)\n",
        "\n",
        "Pclass Passenger’s class (1st, 2nd, or 3rd)\n",
        "\n",
        "Name - Passenger’s name\n",
        "\n",
        "Sex - Passenger’s sex\n",
        "\n",
        "Age - Passenger’s age\n",
        "\n",
        "SibSp - Number of siblings/spouses aboard the Titanic\n",
        "\n",
        "Parch - Number of parents/children aboard the Titanic\n",
        "\n",
        "Ticket - Ticket number\n",
        "\n",
        "Fare - Fare paid for ticket\n",
        "\n",
        "Cabin - Cabin number\n",
        "\n",
        "Embarked - Where the passenger got on the ship (C — Cherbourg, S — Southampton, Q = Queenstown)"
      ]
    },
    {
      "cell_type": "markdown",
      "source": [
        "# **Now, It's time to dive into the data**"
      ],
      "metadata": {
        "id": "tM3LbEeGE95T"
      }
    },
    {
      "cell_type": "markdown",
      "source": [
        "**1.) Who were the passengers on the Titanic? (Ages, Gender, Class,..etc)**"
      ],
      "metadata": {
        "id": "WMR-O0mZAOYS"
      }
    },
    {
      "cell_type": "code",
      "execution_count": null,
      "metadata": {
        "id": "RItSplPALOOo"
      },
      "outputs": [],
      "source": [
        "# First, take a look at the survival count\n",
        "sns.countplot(data=titanic_df, x='Survived')\n",
        "plt.title('Passenger Survival Count')\n",
        "plt.show()\n",
        "\n",
        "# Countplot of survival by gender\n",
        "___________________\n",
        "\n",
        "# Countplot of survival by passenger class\n",
        "____________________\n",
        "\n",
        "sns.catplot(data=titanic_df, x='Sex', kind='count')\n",
        "# 'catplot()': Figure-level interface for drawing categorical plots onto a FacetGrid.\n",
        "# Now let separate the gender by classes passing 'Sex' to the 'hue' parameter\n",
        "sns.catplot( data=titanic_df, x='Pclass', hue='Sex', kind='count')\n"
      ]
    },
    {
      "cell_type": "markdown",
      "source": [
        "**Adult versus Children**"
      ],
      "metadata": {
        "id": "slTXZJ-jFxZ-"
      }
    },
    {
      "cell_type": "code",
      "execution_count": null,
      "metadata": {
        "id": "EwI-dzNlL9AG"
      },
      "outputs": [],
      "source": [
        "# Create a new column 'Adult_Child' in which every person under 16 is a child.\n",
        "___________________________________\n",
        "\n",
        "# Checking the distribution\n",
        "print(f\"Adult_Child categories : {titanic_df.Adult_Child.unique()}\\n=================================\")\n",
        "print(f\"Distribution of Adult_Child : \\n{titanic_df.Adult_Child.value_counts()}\\n=================================\")\n",
        "print(f\"Mean age : {titanic_df.Age.mean()}\\n=================================\")\n",
        "\n",
        "# What's the survival rate for the adult and children?\n",
        "sns.catplot( data=titanic_df, x='Survived', hue='Adult_Child', kind='count')\n",
        "# What's the class most children at?\n",
        "sns.catplot( data=titanic_df, x='Pclass', hue='Adult_Child', kind='count')\n"
      ]
    },
    {
      "cell_type": "markdown",
      "source": [
        "**Age Distribution**"
      ],
      "metadata": {
        "id": "tsrfSCXVGFA1"
      }
    },
    {
      "cell_type": "code",
      "execution_count": null,
      "metadata": {
        "id": "OBn7azMjMPRC"
      },
      "outputs": [],
      "source": [
        "# visualizing age distribution\n",
        "# Histogram of passenger age\n",
        "____________________________________\n",
        "plt.title('Passenger Age Distribution')\n",
        "plt.show()\n",
        "\n"
      ]
    },
    {
      "cell_type": "markdown",
      "source": [
        "\n",
        "**Right now, we would like to understand:**\n",
        "\n",
        "**2.) Who was alone and who was with family?**"
      ],
      "metadata": {
        "id": "djVZ0ylnfSnn"
      }
    },
    {
      "cell_type": "code",
      "execution_count": null,
      "metadata": {
        "id": "HoefWHk4E2kF"
      },
      "outputs": [],
      "source": [
        "# Create a new column to count who has siblings, parents, or children\n",
        "__________________________"
      ]
    },
    {
      "cell_type": "code",
      "execution_count": null,
      "metadata": {
        "id": "S4oy4NqCE8gy"
      },
      "outputs": [],
      "source": [
        "# Look for > 0 or == 0 to set \"Company\" status\n",
        "titanic_df.loc[titanic_df['Company'] > 0, 'Company'] = 'with Family'\n",
        "___________________________________________\n",
        "# Let's check to make sure it worked\n",
        "titanic_df.head()"
      ]
    },
    {
      "cell_type": "markdown",
      "source": [
        "**Does with or without family influence survival?**"
      ],
      "metadata": {
        "id": "blO3cMK9GL24"
      }
    },
    {
      "cell_type": "code",
      "execution_count": null,
      "metadata": {
        "id": "sH_rI5DwFAZJ"
      },
      "outputs": [],
      "source": [
        "# Plot survival rate vs Company\n",
        "sns.catplot( data=titanic_df, x='Survived', hue='Company', kind='count')"
      ]
    },
    {
      "cell_type": "markdown",
      "source": [
        "**3.) How does class relate to survival rate?**"
      ],
      "metadata": {
        "id": "TC9tuyjke3Cd"
      }
    },
    {
      "cell_type": "code",
      "execution_count": null,
      "metadata": {
        "id": "64sDBAbWCIPH"
      },
      "outputs": [],
      "source": [
        "# Countplot of survival by passenger class\n",
        "_________________________________________________\n",
        "plt.title('Survival Count by Passenger Class')\n",
        "plt.show()\n",
        "\n",
        "sns.catplot(data=titanic_df, x='Sex', kind='count')\n",
        "# Now let separate the gender by classes passing 'Sex' to the 'hue' parameter\n",
        "sns.catplot( data=titanic_df, x='Pclass', hue='Sex', kind='count')"
      ]
    },
    {
      "cell_type": "markdown",
      "source": [
        "**4.) How about the ticket price??**\n",
        "\n",
        "**Does it influence the survaival rate?**"
      ],
      "metadata": {
        "id": "q0cqrVA3fqCO"
      }
    },
    {
      "cell_type": "code",
      "execution_count": null,
      "metadata": {
        "id": "pBGxD3FWA2MM"
      },
      "outputs": [],
      "source": [
        "# Boxplot of passenger fare by passenger class\n",
        "________________________________________________\n",
        "plt.title('Passenger Fare by Passenger Class')\n",
        "plt.show()"
      ]
    },
    {
      "cell_type": "code",
      "execution_count": null,
      "metadata": {
        "id": "l1WIpduOBBaf"
      },
      "outputs": [],
      "source": [
        "# Swarmplot of passenger fare by passenger class and survival\n",
        "__________________________\n",
        "plt.title('Passenger Fare by Passenger Class and Survival')\n",
        "plt.xlabel('Passenger Class')\n",
        "plt.ylabel('Fare($)')\n",
        "plt.show()"
      ]
    },
    {
      "cell_type": "markdown",
      "source": [
        "# **Conclusion**\n",
        "\n",
        "**5.) What factors helped someone survive the sinking?**\n",
        "\n"
      ],
      "metadata": {
        "id": "Kt52ogSjy6P2"
      }
    }
  ],
  "metadata": {
    "colab": {
      "provenance": []
    },
    "kernelspec": {
      "display_name": "Python 3",
      "name": "python3"
    },
    "language_info": {
      "name": "python"
    }
  },
  "nbformat": 4,
  "nbformat_minor": 0
}